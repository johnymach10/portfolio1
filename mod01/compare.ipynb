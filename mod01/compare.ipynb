{
 "cells": [
  {
   "cell_type": "code",
   "execution_count": 3,
   "metadata": {},
   "outputs": [
    {
     "name": "stdout",
     "output_type": "stream",
     "text": [
      "602\n"
     ]
    }
   ],
   "source": [
    "a = int(input(\"Digite A:\"))\n",
    "b = int(input(\"Digite B:\"))\n",
    "\n",
    "if a == b :\n",
    "    print(\"Os números são iguais:\")\n",
    "\n",
    "elif a > b :\n",
    "    print(a)\n",
    "else:\n",
    "    print(b)"
   ]
  }
 ],
 "metadata": {
  "kernelspec": {
   "display_name": "Python 3.10.8 64-bit (microsoft store)",
   "language": "python",
   "name": "python3"
  },
  "language_info": {
   "codemirror_mode": {
    "name": "ipython",
    "version": 3
   },
   "file_extension": ".py",
   "mimetype": "text/x-python",
   "name": "python",
   "nbconvert_exporter": "python",
   "pygments_lexer": "ipython3",
   "version": "3.10.8"
  },
  "orig_nbformat": 4,
  "vscode": {
   "interpreter": {
    "hash": "d952a0ca9dc3e0cf05dda69312e6f94b83f92af121884b43d0ea4aa66adc0274"
   }
  }
 },
 "nbformat": 4,
 "nbformat_minor": 2
}
